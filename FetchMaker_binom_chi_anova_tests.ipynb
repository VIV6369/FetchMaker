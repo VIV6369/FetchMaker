{
 "cells": [
  {
   "cell_type": "markdown",
   "id": "f2516439",
   "metadata": {},
   "source": [
    "### FetchMaker\n",
    "\n",
    "Congratulations! You’ve just started working at the hottest new tech startup, FetchMaker. FetchMaker’s mission is to match up prospective dog owners with their perfect pet. FetchMaker has been collecting data on their adoptable dogs, and it’s your job to analyze some of that data.\n",
    "\n",
    "FetchMaker has provided us with data for a sample of dogs from their app, including the following attributes:\n",
    "\n",
    "* *weight*, an integer representing how heavy a dog is in pounds\n",
    "* *tail_length*, a float representing tail length in inches\n",
    "* *age*, in years\n",
    "* *color*, a String such as \"brown\" or \"grey\"\n",
    "* *is_rescue*, a boolean 0 or 1"
   ]
  },
  {
   "cell_type": "code",
   "execution_count": 33,
   "id": "28e70958",
   "metadata": {},
   "outputs": [],
   "source": [
    "# Import libraries\n",
    "import numpy as np\n",
    "import pandas as pd\n",
    "import seaborn as sns\n",
    "import matplotlib.pyplot as plt\n",
    "\n",
    "# Import data\n",
    "dogs = pd.read_csv('dog_data.csv')"
   ]
  },
  {
   "cell_type": "code",
   "execution_count": 3,
   "id": "6f2cee3c",
   "metadata": {},
   "outputs": [
    {
     "data": {
      "text/html": [
       "<div>\n",
       "<style scoped>\n",
       "    .dataframe tbody tr th:only-of-type {\n",
       "        vertical-align: middle;\n",
       "    }\n",
       "\n",
       "    .dataframe tbody tr th {\n",
       "        vertical-align: top;\n",
       "    }\n",
       "\n",
       "    .dataframe thead th {\n",
       "        text-align: right;\n",
       "    }\n",
       "</style>\n",
       "<table border=\"1\" class=\"dataframe\">\n",
       "  <thead>\n",
       "    <tr style=\"text-align: right;\">\n",
       "      <th></th>\n",
       "      <th>is_rescue</th>\n",
       "      <th>weight</th>\n",
       "      <th>tail_length</th>\n",
       "      <th>age</th>\n",
       "      <th>color</th>\n",
       "      <th>likes_children</th>\n",
       "      <th>is_hypoallergenic</th>\n",
       "      <th>name</th>\n",
       "      <th>breed</th>\n",
       "    </tr>\n",
       "  </thead>\n",
       "  <tbody>\n",
       "    <tr>\n",
       "      <th>0</th>\n",
       "      <td>0</td>\n",
       "      <td>6</td>\n",
       "      <td>2.25</td>\n",
       "      <td>2</td>\n",
       "      <td>black</td>\n",
       "      <td>1</td>\n",
       "      <td>0</td>\n",
       "      <td>Huey</td>\n",
       "      <td>chihuahua</td>\n",
       "    </tr>\n",
       "    <tr>\n",
       "      <th>1</th>\n",
       "      <td>0</td>\n",
       "      <td>4</td>\n",
       "      <td>5.36</td>\n",
       "      <td>4</td>\n",
       "      <td>black</td>\n",
       "      <td>0</td>\n",
       "      <td>0</td>\n",
       "      <td>Cherish</td>\n",
       "      <td>chihuahua</td>\n",
       "    </tr>\n",
       "    <tr>\n",
       "      <th>2</th>\n",
       "      <td>0</td>\n",
       "      <td>7</td>\n",
       "      <td>3.63</td>\n",
       "      <td>3</td>\n",
       "      <td>black</td>\n",
       "      <td>0</td>\n",
       "      <td>1</td>\n",
       "      <td>Becka</td>\n",
       "      <td>chihuahua</td>\n",
       "    </tr>\n",
       "    <tr>\n",
       "      <th>3</th>\n",
       "      <td>0</td>\n",
       "      <td>5</td>\n",
       "      <td>0.19</td>\n",
       "      <td>2</td>\n",
       "      <td>black</td>\n",
       "      <td>0</td>\n",
       "      <td>0</td>\n",
       "      <td>Addie</td>\n",
       "      <td>chihuahua</td>\n",
       "    </tr>\n",
       "    <tr>\n",
       "      <th>4</th>\n",
       "      <td>0</td>\n",
       "      <td>5</td>\n",
       "      <td>0.37</td>\n",
       "      <td>1</td>\n",
       "      <td>black</td>\n",
       "      <td>1</td>\n",
       "      <td>1</td>\n",
       "      <td>Beverlee</td>\n",
       "      <td>chihuahua</td>\n",
       "    </tr>\n",
       "  </tbody>\n",
       "</table>\n",
       "</div>"
      ],
      "text/plain": [
       "   is_rescue  weight  tail_length  age  color  likes_children  \\\n",
       "0          0       6         2.25    2  black               1   \n",
       "1          0       4         5.36    4  black               0   \n",
       "2          0       7         3.63    3  black               0   \n",
       "3          0       5         0.19    2  black               0   \n",
       "4          0       5         0.37    1  black               1   \n",
       "\n",
       "   is_hypoallergenic      name      breed  \n",
       "0                  0      Huey  chihuahua  \n",
       "1                  0   Cherish  chihuahua  \n",
       "2                  1     Becka  chihuahua  \n",
       "3                  0     Addie  chihuahua  \n",
       "4                  1  Beverlee  chihuahua  "
      ]
     },
     "execution_count": 3,
     "metadata": {},
     "output_type": "execute_result"
    }
   ],
   "source": [
    "dogs.head()"
   ]
  },
  {
   "cell_type": "code",
   "execution_count": 7,
   "id": "0fbf8f17",
   "metadata": {},
   "outputs": [
    {
     "data": {
      "text/plain": [
       "array(['chihuahua', 'greyhound', 'pitbull', 'poodle', 'rottweiler',\n",
       "       'shihtzu', 'terrier', 'whippet'], dtype=object)"
      ]
     },
     "execution_count": 7,
     "metadata": {},
     "output_type": "execute_result"
    }
   ],
   "source": [
    "dogs.breed.unique()"
   ]
  },
  {
   "cell_type": "markdown",
   "id": "ac78680f",
   "metadata": {},
   "source": [
    "FetchMaker estimates (based on historical data for all dogs) that 8% of dogs in their system are rescues.\n",
    "\n",
    "They would like to know if whippets are significantly more or less likely than other dogs to be a rescue."
   ]
  },
  {
   "cell_type": "code",
   "execution_count": 23,
   "id": "3d624b07",
   "metadata": {},
   "outputs": [
    {
     "name": "stdout",
     "output_type": "stream",
     "text": [
      "Number of resques: 6\n",
      "Number of not resques: 94\n",
      "100\n",
      "Percentage of whippets are resques: 6.0\n"
     ]
    }
   ],
   "source": [
    "# Rescues and not resques\n",
    "whippet_rescues = dogs[(dogs.is_rescue == 1) & (dogs.breed == 'whippet')]\n",
    "num_whippet_rescues = len(whippet_rescues)\n",
    "print(\"Number of resques:\", num_whippet_rescues)\n",
    "\n",
    "whippet_not_rescues = dogs[(dogs.is_rescue == 0) & (dogs.breed == 'whippet')]\n",
    "num_whippet__not_rescues = len(whippet_not_rescues)\n",
    "print(\"Number of not resques:\", num_whippet__not_rescues)\n",
    "\n",
    "num_whippets = len(dogs[dogs.breed == 'whippet'])\n",
    "print(num_whippets)\n",
    "\n",
    "whippet_rescues_pct = (num_whippet_rescues / num_whippets) *100\n",
    "print(\"Percentage of whippets are resques:\", whippet_rescues_pct)"
   ]
  },
  {
   "cell_type": "markdown",
   "id": "e7d7b89c",
   "metadata": {},
   "source": [
    "Use a hypothesis test to test the following null and alternative hypotheses:\n",
    "\n",
    "* Null: 8% of whippets are rescues\n",
    "* Alternative: more or less than 8% of whippets are rescues\n",
    "\n",
    "Using a significance threshold of 0.05, Is the proportion of whippets who are rescues significantly different from 8%?"
   ]
  },
  {
   "cell_type": "code",
   "execution_count": 25,
   "id": "c1647d18",
   "metadata": {},
   "outputs": [
    {
     "name": "stdout",
     "output_type": "stream",
     "text": [
      "Binomial test P-value: 0.5811780106238105\n",
      "Since our p-value is more than 0.05 threshold it means that we can accept null hypothesis and say that statistical difference is not significant and therefore about 8% of whippets are resques.\n"
     ]
    }
   ],
   "source": [
    "# Binomial Test\n",
    "from scipy.stats import binom_test\n",
    "p_value = binom_test(num_whippet_rescues, n=num_whippets, p =0.08)\n",
    "print(\"Binomial test P-value:\", p_value)\n",
    "print(\"Since our p-value is more than 0.05 threshold it means that we can accept null hypothesis and say that statistical difference is not significant and therefore about 8% of whippets are resques.\")"
   ]
  },
  {
   "cell_type": "markdown",
   "id": "5668d5ed",
   "metadata": {},
   "source": [
    "#### Mid-Sized Dog Weights\n",
    "\n",
    "Three of FetchMaker’s most popular mid-sized dog breeds are 'whippet's, 'terrier's, and 'pitbull's. Is there a significant difference in the average weights of these three dog breeds?\n",
    "\n",
    "\n",
    "Run a single hypothesis test to address the following null and alternative hypotheses:\n",
    "\n",
    "* Null: whippets, terriers, and pitbulls all weigh the same amount on average\n",
    "* Alternative: whippets, terriers, and pitbulls do not all weigh the same amount on average (at least one pair of breeds has differing average weights)\n",
    "\n",
    "Using a significance threshold of 0.05, is there at least one pair of dog breeds that have significantly different average weights?"
   ]
  },
  {
   "cell_type": "code",
   "execution_count": 28,
   "id": "97aec9ab",
   "metadata": {},
   "outputs": [],
   "source": [
    "wt_whippets = dogs[dogs.breed == 'whippet'].weight\n",
    "wt_terriers = dogs[dogs.breed == 'terrier'].weight\n",
    "wt_pitbulls = dogs[dogs.breed == 'pitbull'].weight"
   ]
  },
  {
   "cell_type": "code",
   "execution_count": 64,
   "id": "feda55ba",
   "metadata": {},
   "outputs": [
    {
     "name": "stdout",
     "output_type": "stream",
     "text": [
      "P-value: 3.276415588274815e-17\n",
      "Since p-value is less than 0.05 threshold it means at least one pair of dog breeds have significantly different average weights.\n",
      " Multiple Comparison of Means - Tukey HSD, FWER=0.05 \n",
      "=====================================================\n",
      " group1  group2 meandiff p-adj   lower  upper  reject\n",
      "-----------------------------------------------------\n",
      "pitbull terrier   -13.24  0.001 -16.728 -9.752   True\n",
      "pitbull whippet    -3.34 0.0639  -6.828  0.148  False\n",
      "terrier whippet      9.9  0.001   6.412 13.388   True\n",
      "-----------------------------------------------------\n",
      "Null hypothesys is rejected for Pitbull/Terrier and Whippet/Terrier pairs. Those pairs have significantly different average weights.\n"
     ]
    },
    {
     "data": {
      "image/png": "[encoded data removed]",
      "text/plain": [
       "<Figure size 432x288 with 1 Axes>"
      ]
     },
     "metadata": {},
     "output_type": "display_data"
    },
    {
     "name": "stderr",
     "output_type": "stream",
     "text": [
      "C:\\ProgramData\\Anaconda3\\lib\\site-packages\\statsmodels\\sandbox\\stats\\multicomp.py:775: UserWarning: FixedFormatter should only be used together with FixedLocator\n",
      "  ax1.set_yticklabels(np.insert(self.groupsunique.astype(str), 0, ''))\n"
     ]
    },
    {
     "data": {
      "text/plain": [
       "<Figure size 432x288 with 0 Axes>"
      ]
     },
     "metadata": {},
     "output_type": "display_data"
    },
    {
     "data": {
      "image/png": "[encoded data removed]",
      "text/plain": [
       "<Figure size 720x432 with 1 Axes>"
      ]
     },
     "metadata": {},
     "output_type": "display_data"
    },
    {
     "name": "stdout",
     "output_type": "stream",
     "text": [
      "On the chart above the dot is the mean value and intervals are 95% confidence interval between breeds. Terrier intervals doesn't overlap which tells us that terrier weights are significantly different from others.\n"
     ]
    },
    {
     "data": {
      "text/plain": [
       "<Figure size 432x288 with 0 Axes>"
      ]
     },
     "metadata": {},
     "output_type": "display_data"
    }
   ],
   "source": [
    "#7,8 ANOVA/Tukey test\n",
    "from scipy.stats import f_oneway\n",
    "fstat, pval_anova = f_oneway(wt_whippets, wt_terriers, wt_pitbulls)\n",
    "print(\"P-value:\", pval_anova)\n",
    "print(\"Since p-value is less than 0.05 threshold it means at least one pair of dog breeds have significantly different average weights.\")\n",
    "\n",
    "# Subset to just whippets, terriers, and pitbulls\n",
    "dogs_wtp = dogs[dogs.breed.isin(['whippet', 'terrier', 'pitbull'])]\n",
    "\n",
    "from statsmodels.stats.multicomp import pairwise_tukeyhsd\n",
    "tukey_results = pairwise_tukeyhsd(dogs_wtp.weight, dogs_wtp.breed, 0.05)\n",
    "print(tukey_results)\n",
    "print(\"Null hypothesys is rejected for Pitbull/Terrier and Whippet/Terrier pairs. Those pairs have significantly different average weights.\")\n",
    "\n",
    "# Visualization of breed weights\n",
    "sns.set_style(\"whitegrid\")\n",
    "sns.boxplot(data=dogs_wtp, y='weight', x='breed')\n",
    "plt.xlabel(\"Breed\")\n",
    "plt.ylabel(\"Weight\")\n",
    "plt.show()\n",
    "plt.clf()\n",
    "\n",
    "# Built in Tukey visualization function\n",
    "tukey_results.plot_simultaneous(comparison_name = 'terrier',xlabel='Weight', ylabel='Breeed')\n",
    "plt.show()\n",
    "plt.clf()\n",
    "\n",
    "print(\"On the chart above the dot is the mean value and intervals are 95% confidence interval between breeds. Terrier intervals doesn't overlap which tells us that terrier weights are significantly different from others.\")"
   ]
  },
  {
   "cell_type": "markdown",
   "id": "004fd43e",
   "metadata": {},
   "source": [
    "#### Poodle and Shihtzu Colors\n",
    "\n",
    "FetchMaker wants to know if 'poodle's and 'shihtzu's come in different colors. \n",
    "\n",
    "Run a hypothesis test for the following null and alternative hypotheses:\n",
    "\n",
    "* Null: There is not an association between breed (poodle vs. shihtzu) and color.\n",
    "* Alternative: There is an association between breed (poodle vs. shihtzu) and color.\n",
    "\n",
    "Do poodles and shihtzus come in significantly different color combinations? Use a significance threshold of 0.05."
   ]
  },
  {
   "cell_type": "code",
   "execution_count": 61,
   "id": "9818e6de",
   "metadata": {},
   "outputs": [
    {
     "name": "stdout",
     "output_type": "stream",
     "text": [
      "color    black  brown  gold  grey  white\n",
      "breed                                   \n",
      "poodle      17     13     8    52     10\n",
      "shihtzu     10     36     6    41      7\n",
      "P-value: 0.005302408293244597\n",
      "Since our p-value is less than 0.05 threshold we can reject null hypothesis and say that there is an association between which breed (poodle vs. shihtzu) and their color.\n"
     ]
    }
   ],
   "source": [
    "# Subset to just poodles and shihtzus\n",
    "dogs_ps = dogs[dogs.breed.isin(['poodle', 'shihtzu'])]\n",
    "\n",
    "# Contingency table creation (color by breed)\n",
    "Xtab = pd.crosstab(dogs_ps.breed, dogs_ps.color)\n",
    "print(Xtab)\n",
    "\n",
    "# Chi-Square Test\n",
    "from scipy.stats import chi2_contingency\n",
    "chi2, pval_chi, dof, expected = chi2_contingency(Xtab)\n",
    "print(\"P-value:\", pval_chi)\n",
    "print(\"Since our p-value is less than 0.05 threshold we can reject null hypothesis and say that there is an association between which breed (poodle vs. shihtzu) and their color.\")"
   ]
  }
 ],
 "metadata": {
  "kernelspec": {
   "display_name": "Python 3 (ipykernel)",
   "language": "python",
   "name": "python3"
  },
  "language_info": {
   "codemirror_mode": {
    "name": "ipython",
    "version": 3
   },
   "file_extension": ".py",
   "mimetype": "text/x-python",
   "name": "python",
   "nbconvert_exporter": "python",
   "pygments_lexer": "ipython3",
   "version": "3.9.7"
  }
 },
 "nbformat": 4,
 "nbformat_minor": 5
}
